{
 "cells": [
  {
   "cell_type": "markdown",
   "metadata": {},
   "source": [
    "# Python Eğitimi 1. Ders\n",
    "\n",
    "Bu derste: \n",
    "\n",
    "- Sayılar ve Aritmetik Operatörler\n",
    "- Değişkenler ve Diğer Temel Veri Tipleri\n",
    "- Akış kontrolü (if, elif, else, for, while vs.)\n",
    "- Fonksiyonlar\n",
    "- Scope Kavramı\n",
    "\n",
    "konularını öğreneceğiz."
   ]
  },
  {
   "cell_type": "markdown",
   "metadata": {},
   "source": [
    "## Neden Python?\n",
    "\n",
    "Python yüksek seviyeli, genel amaçlı ve oldukça yaygın nesne tabanlı bir programlama dilidir. Web Geliştirme, GUI Tasarımı (Graphical User Interface), Makine Öğrenmesi, Görüntü İşleme, Bilimsel Hesaplama ve Veri Bilimi gibi konularda oldukça kullanışlıdır. Dünya üzerinde bir çok teknolojik dev şirket (Google, Amazon, Netflix, Uber vs.) ve bir çok bilimsel kuruluş projelerinde Python'u kullanır. Diğer programlama dillerine nazaran öğrenmesi daha kolay ve okunabilirliği daha iyidir. Bu yüzden bir çok dile göre python programları daha kısadır."
   ]
  },
  {
   "cell_type": "code",
   "execution_count": null,
   "metadata": {},
   "outputs": [],
   "source": [
    "print(\"Merhaba Dünya!\")"
   ]
  },
  {
   "cell_type": "markdown",
   "metadata": {},
   "source": [
    "-------------\n",
    "## 1. Sayılar ve Aritmetik Operatörler\n",
    "Python'da sayılar ile ilgili sıklıkla kullanacağımız iki veri tipi vardır:\n",
    "- Integer: Tam sayıları ifade etmek için kullanılır. Hassasiyet bilgisi (ondalıklı kısım) barındırmazlar.\n",
    "- Floating Point: Kayan nokta anlamına gelir. Belli bir hassasiyete kadar gerçek sayıları ifade etmek için kullanılır. Kısaca \"float\" olarak da adlandırılır.\n",
    "\n",
    "|**Veri Tipi**|**Örnekler**|\n",
    "|:-----------|:--------:|\n",
    "|Integer|3, -5, 0|\n",
    "|Float|3.14, 2.72, 1.0|"
   ]
  },
  {
   "cell_type": "code",
   "execution_count": null,
   "metadata": {},
   "outputs": [],
   "source": [
    "# Ekleme\n",
    "2 + 4"
   ]
  },
  {
   "cell_type": "code",
   "execution_count": null,
   "metadata": {},
   "outputs": [],
   "source": [
    "# Çıkarma\n",
    "5 - 7"
   ]
  },
  {
   "cell_type": "code",
   "execution_count": null,
   "metadata": {},
   "outputs": [],
   "source": [
    "# Çarpma\n",
    "20 * 2"
   ]
  },
  {
   "cell_type": "code",
   "execution_count": null,
   "metadata": {},
   "outputs": [],
   "source": [
    "# Üs Alma\n",
    "10 ** 9"
   ]
  },
  {
   "cell_type": "code",
   "execution_count": null,
   "metadata": {},
   "outputs": [],
   "source": [
    "# Bölme\n",
    "22 / 7"
   ]
  },
  {
   "cell_type": "code",
   "execution_count": null,
   "metadata": {},
   "outputs": [],
   "source": [
    "# Kalansız Bölme (Floor Division)\n",
    "22 // 7"
   ]
  },
  {
   "cell_type": "markdown",
   "metadata": {},
   "source": [
    "###### Peki burada ne oldu?\n",
    "Bütün operatörler işlemin sonucunu eğer bütün değerler int ise int, değerlerden biri float ise float olarak verir.  \n",
    "**Bölme (/)** ise diğer operatörlerin aksine değerler ne olursa olsun sonucu float olarak verir.\n",
    "\n",
    "Bu, Python 3 ile gelmiş bir özelliktir. Python 2'de bölme işlemi diğer operatörler gibi çalışıyordu, yani eğer değerler tam sayı ise sonucu da tam sayı olarak veriyordu. Ancak bu durumda bekleneceği gibi sayının en yakın tam sayıya yuvarlanması yerine, sayının ondalıklı kısmı atılır. Bunu *bir düşük tam sayıya yuvarlamak* olarak da düşünebiliriz. Bu işlevselliği Python 3'de kullanmak için **Floor Division (//)** operatörü kullanılır."
   ]
  },
  {
   "cell_type": "code",
   "execution_count": null,
   "metadata": {},
   "outputs": [],
   "source": [
    "# Sonucu ondalıklı sayı olarak elde etmek için değerlerden birini float yapabilirsiniz\n",
    "5 - 7.0"
   ]
  },
  {
   "cell_type": "code",
   "execution_count": null,
   "metadata": {},
   "outputs": [],
   "source": [
    "# Ya da float() fonksiyonunu kullanabilirsiniz\n",
    "float(20*2)"
   ]
  },
  {
   "cell_type": "markdown",
   "metadata": {},
   "source": [
    "###### İşlem Önceliği:"
   ]
  },
  {
   "cell_type": "code",
   "execution_count": null,
   "metadata": {},
   "outputs": [],
   "source": [
    "2 + 3 * 5"
   ]
  },
  {
   "cell_type": "code",
   "execution_count": null,
   "metadata": {},
   "outputs": [],
   "source": [
    "(2 + 3) * 5"
   ]
  },
  {
   "cell_type": "markdown",
   "metadata": {},
   "source": [
    "-------------------------------------------------------------------------------------------------------------------------------\n",
    "## 2. Değişkenler ve Diğer Temel Veri Tipleri\n",
    "\n",
    "### Değişkenler: \n",
    "Verileri saklamak için kullanılırlar. Değişken isimlendirmelerinde bazı kurallar vardır: \n",
    "- Değişken isimleri bir harf veya '\\_' karakteri ile başlamalıdır.\n",
    "- Değişken isimleri bir sayı ile başlayamaz.\n",
    "- Değişken isimlerinde boşluk karakteri bulunamaz.\n",
    "- Değişken isimlerinde yalnızca alfa-nümerik karakterler ve \"\\_\" karakteri bulunabilir. (a-z, A-Z, 0-9)\n",
    "\n",
    "Değişkenlere değer atamak için **\"=\"** atama operatörü kullanılır."
   ]
  },
  {
   "cell_type": "code",
   "execution_count": null,
   "metadata": {},
   "outputs": [],
   "source": [
    "# Doğru isimlendirmeye örnek\n",
    "_my_var = 30"
   ]
  },
  {
   "cell_type": "code",
   "execution_count": null,
   "metadata": {},
   "outputs": [],
   "source": [
    "# Hatalı isimlendirmeye örnek\n",
    "4myvar = 'Değişken'"
   ]
  },
  {
   "cell_type": "markdown",
   "metadata": {},
   "source": [
    "### Veri Tipleri: \n",
    "- **String**: Karakterler dizisidir. Yazıları ifade etmek için kullanılır. \n",
    "    - '+' operatörü stringlerde uçtan uca birleştirme için kullanılır.\n",
    "    - '\\*' operatörü stringleri çoğaltmak için kullanılır."
   ]
  },
  {
   "cell_type": "code",
   "execution_count": null,
   "metadata": {},
   "outputs": [],
   "source": [
    "\"Merhaba\""
   ]
  },
  {
   "cell_type": "code",
   "execution_count": null,
   "metadata": {},
   "outputs": [],
   "source": [
    "\"I\" + \"E\"*3 + \" Doğuş Üniversitesi \" + \"Öğrenci Kolu\""
   ]
  },
  {
   "cell_type": "markdown",
   "metadata": {},
   "source": [
    "- **Boolean**: \"True\" ve \"False\" değerlerinin veri tipidir. Akış kontrolünde kullanılır.\n",
    "\n",
    "Bazı Boolean Operatörleri: \n",
    "\n",
    "|Operatör|Anlamı|\n",
    "|:--:|:--:|\n",
    "|==|Eşittir|\n",
    "|!=|Eşit Değildir|\n",
    "|<|Küçüktür|\n",
    "|>|Büyüktür|\n",
    "|<=|Küçük veya Eşittir|\n",
    "|>=|Büyük veya Eşittir|\n",
    "|and|Ve|\n",
    "|or|Veya|\n",
    "|not|Değildir|"
   ]
  },
  {
   "cell_type": "markdown",
   "metadata": {},
   "source": [
    "---\n",
    "## 3. Akış Kontrolü\n",
    "\n",
    "### Şart Komutları (if/elif/else):\n",
    "\n",
    "**\"if\"** komutu, eğer karşısındaki ifade *True* olarak değerlendirilirse takip eden kod bloğunu çalıştırır.  \n",
    "**\"elif\"** komutu, eğer bir önceki koşul sağlanmamışsa ve karşısındaki ifade *True* olarak değerlendirilirse takip eden kod bloğunu çalıştırır.  \n",
    "**\"else\"** komutu, eğer hiç bir şart bloğu çalışmazsa takip eden kod bloğunu çalıştırır."
   ]
  },
  {
   "cell_type": "code",
   "execution_count": null,
   "metadata": {},
   "outputs": [],
   "source": [
    "isim = input(\"Merhaba! İsminiz nedir? \")\n",
    "if isim == \"Çağatay\":\n",
    "    print(\"Bu benim!\")\n",
    "elif isim == \"Hasan\":\n",
    "    print(\"Merhaba \" + isim)\n",
    "else:\n",
    "    print(\"Üzgünüm, seni tanımıyorum.\")"
   ]
  },
  {
   "cell_type": "markdown",
   "metadata": {},
   "source": [
    "### Döngüler\n",
    "\n",
    "#### For:\n",
    "\n",
    "Bir dizideki her eleman için takip eden kod bloğunu tekrar eder."
   ]
  },
  {
   "cell_type": "code",
   "execution_count": null,
   "metadata": {},
   "outputs": [],
   "source": [
    "# Not: range(n) fonksiyonu, 0'dan n-1'e kadar bütün sayıların olduğu geçici bir dizi oluşturur.\n",
    "for i in range(10):\n",
    "    print(i)"
   ]
  },
  {
   "cell_type": "markdown",
   "metadata": {},
   "source": [
    "#### While: \n",
    "\n",
    "Önündeki şart bloğu sağlandığı sürece takip eden kod bloğunu tekrar eder."
   ]
  },
  {
   "cell_type": "code",
   "execution_count": null,
   "metadata": {},
   "outputs": [],
   "source": [
    "i = 0\n",
    "\n",
    "while i < 5:\n",
    "    i += 1\n",
    "    print(i)\n",
    "    \n",
    "print(\"i 5'e eşit\")"
   ]
  },
  {
   "cell_type": "markdown",
   "metadata": {},
   "source": [
    "While döngüsü kullanarak ufak bir program yazabiliriz: "
   ]
  },
  {
   "cell_type": "code",
   "execution_count": null,
   "metadata": {},
   "outputs": [],
   "source": [
    "kullanici_adi = ''\n",
    "while kullanici_adi != 'adınızı':\n",
    "    kullanici_adi = input(\"Lütfen kullanıcı yazınız: \")\n",
    "    \n",
    "print(\"Teşekkürler!\")"
   ]
  },
  {
   "cell_type": "markdown",
   "metadata": {},
   "source": [
    "```py\n",
    "break\n",
    "```\n",
    "Yukarıdaki komut ile de bir döngünün dışında çıkabiliriz.\n",
    "Aşağıdaki kod da aynı işlevi farklı yollarla görür."
   ]
  },
  {
   "cell_type": "code",
   "execution_count": null,
   "metadata": {},
   "outputs": [],
   "source": [
    "kullanici_adi = ''\n",
    "while True:\n",
    "    kullanici_adi = input(\"Lütfen adınızı yazınız: \")\n",
    "    if kullanici_adi == 'adınızı':\n",
    "        break\n",
    "print(\"Teşekkürler!\")"
   ]
  },
  {
   "cell_type": "markdown",
   "metadata": {},
   "source": [
    "Bu tarz yapılar döngüden sadece tek bir koşulda çıkmak istemediğimiz zamanlarda kullanışlıdır."
   ]
  },
  {
   "cell_type": "markdown",
   "metadata": {},
   "source": [
    "---\n",
    "```python\n",
    "continue\n",
    "```\n",
    "Yukarıdaki komut, bloğun devamını çalıştırmadan döngünün bir sonraki iterasyonuna geçmemizi sağlar."
   ]
  },
  {
   "cell_type": "code",
   "execution_count": null,
   "metadata": {},
   "outputs": [],
   "source": [
    "deger = 0\n",
    "while deger < 10:\n",
    "    deger = deger + 1\n",
    "    if deger == 5:\n",
    "        continue\n",
    "    print(deger)"
   ]
  },
  {
   "cell_type": "markdown",
   "metadata": {},
   "source": [
    "---\n",
    "## 4. Fonksiyonlar\n",
    "Sadece çağırıldıklarında çalıştırılan kod bloklarıdır. Asıl amaçları aynı kodların tekrar tekrar yazılmasını önlemektir. Fonksiyonları birer kara kutu gibi düşünebiliriz. Bir veya birden fazla giriş alırlar, bir şeyler yaparlar ve bir çıkış üretirler. İstediğimiz sonucu alıyorsak içinde ne yazdığı bizi ilgilendirmez. \n",
    "### Yerleşik (Built-in) Fonksiyonlar\n",
    "Her Python kurulumunda mevcut olan yerleşik bazı fonksiyonlar bulunmaktadır.\n",
    "```python\n",
    "print()\n",
    "len()\n",
    "input()\n",
    "```\n",
    "gibi. Daha fazla fonksiyona ve bilgiye [buradan](https://docs.python.org/3/library/functions.html) ulaşabilirsiniz."
   ]
  },
  {
   "cell_type": "code",
   "execution_count": null,
   "metadata": {},
   "outputs": [],
   "source": [
    "# Yukarıdaki fonksiyonların örnekleri\n",
    "personel = input('Lütfen bir isim giriniz: ')\n",
    "print(personel + ' isminde ' + str(len(personel)) + ' harf var.')"
   ]
  },
  {
   "cell_type": "markdown",
   "metadata": {},
   "source": [
    "### Standart Kütüphane\n",
    "Her Python kurulumnda mevcut olan ve bazı ilgili fonksiyonları içeren çeşitli modüller bulunmaktadır. Buna örnek olarak matematiksel işlemler içeren *math* modülü, rastgelelik ile ilgili fonksiyonlar içeren *random* modülü verilebilir.\n",
    "\n",
    "Modülleri kullanmak için önce import komutu kullanılmalıdır.\n",
    "```py\n",
    "import random, sys, os, math\n",
    "```"
   ]
  },
  {
   "cell_type": "code",
   "execution_count": null,
   "metadata": {},
   "outputs": [],
   "source": [
    "import random\n",
    "random.randint(1,10) # 1-10 arası rastgele bir sayı verir"
   ]
  },
  {
   "cell_type": "markdown",
   "metadata": {},
   "source": [
    "Aynı zamanda, komut satırında **pip** komutu yardımıyla üçüncü parti modüller yüklenebilir. Örnek olması amacıyla, kopyala yapıştır yapmamıza yarayan *pyperclip* modülünü yükleyelim.\n",
    "```cmd\n",
    "pip install pyperclip\n",
    "```"
   ]
  },
  {
   "cell_type": "code",
   "execution_count": null,
   "metadata": {},
   "outputs": [],
   "source": [
    "import pyperclip\n",
    "pyperclip.copy(\"Kopyalanacak metin.\")\n",
    "pyperclip.paste()"
   ]
  },
  {
   "cell_type": "markdown",
   "metadata": {},
   "source": [
    "### Kendimiz Fonksiyon Oluşturma\n",
    "\"def\" komutu ile kendi fonksiyonlarımızı tanımlayabiliriz.\n",
    "```py\n",
    "def fonksiyon():\n",
    "    pass\n",
    "```\n"
   ]
  },
  {
   "cell_type": "code",
   "execution_count": null,
   "metadata": {},
   "outputs": [],
   "source": [
    "def merhaba():\n",
    "    print('Merhaba!')\n",
    "    print('Selam!')\n",
    "    print('Hoşçakalın.')\n",
    "    \n",
    "merhaba()\n",
    "merhaba()"
   ]
  },
  {
   "cell_type": "code",
   "execution_count": null,
   "metadata": {},
   "outputs": [],
   "source": [
    "# Fonksiyonlar giriş olarak parametre alabilirler\n",
    "def merhaba(isim):\n",
    "    print(\"Merhaba \" + isim)\n",
    "    \n",
    "merhaba(\"Bayram\")\n",
    "merhaba(\"Vefa\")"
   ]
  },
  {
   "cell_type": "code",
   "execution_count": null,
   "metadata": {},
   "outputs": [],
   "source": [
    "# Bütün fonksiyonlar bir değer döndürürler.\n",
    "len(\"Kaç karakter var\")"
   ]
  },
  {
   "cell_type": "code",
   "execution_count": null,
   "metadata": {},
   "outputs": [],
   "source": [
    "def iki_ile_carp(num):\n",
    "    return num*2\n",
    "\n",
    "iki_ile_carp(5)"
   ]
  },
  {
   "cell_type": "markdown",
   "metadata": {},
   "source": [
    "Eğer *return* komutu kullanılmamışsa, fonksiyonlar varsayılan olarak **None** değerini döndürürler. None, hiç bir değerin olmadığını ifade eden bir değerdir. Değer döndürmeyen fonksiyonlara örnek olarak print() fonksiyonu gösterilebilir."
   ]
  },
  {
   "cell_type": "code",
   "execution_count": null,
   "metadata": {
    "scrolled": true
   },
   "outputs": [],
   "source": [
    "type(print('hello'))"
   ]
  },
  {
   "cell_type": "markdown",
   "metadata": {},
   "source": [
    "### Global ve Local Scope\n",
    "\n",
    "Python'da bir fonksiyonun içindeki bir değişkenin ismi, fonksiyon dışındaki bir değişkenin ismi ile aynı olabilir, ancak yine de iki farklı değişken gibi davranırlar. Bu duruma \"Scope\" denir.\n",
    "\n",
    "**Global Scope**: Programın başında oluşturulur, ve program sonlandırıldığı zamana kadar hafızada tutulur.  \n",
    "**Local Scope**: İlgili fonksiyon çağırıldığında oluşturulur, ve fonksiyondan çıkıldığı zaman hafızadan silinir ve içindeki bütün değişkenler kaybolur.\n",
    "\n",
    "- Global Scope'da yazılan kod herhangi bir yerel değişkeni kullanamaz.\n",
    "- Local Scope'da yazılan kod global değişkenleri kullanabilir.\n",
    "- Bir fonksiyondaki kod başka bir fonksiyonun yerel değişkenini kullanamaz.\n",
    "- Farklı Scope'larda olduğu sürece değişkenlerin isimleri aynı olabilir ve birbirlerini etkilemezler.\n",
    "\n",
    "Local Scope'dan global bir değişkene erişmek için fonksiyonun içerisinde \"global\" ifadesi kullanılabilir. Böylece herhangi bir atama (assignment) yaptığımızda Python'a kendi yerel değişkenini oluşturmak yerine global değişkeni kullanmasını söyleriz.\n",
    "\n",
    "```py\n",
    "def fonksiyon():\n",
    "    global myvar\n",
    "    pass\n",
    "```"
   ]
  },
  {
   "cell_type": "code",
   "execution_count": null,
   "metadata": {},
   "outputs": [],
   "source": [
    "# Global Scope'da yazılan kod herhangi bir yerel değişkeni kullanamaz.\n",
    "\n",
    "def fonksiyon():\n",
    "    x = 5\n",
    "\n",
    "fonksiyon()\n",
    "print(x)\n",
    "\n",
    "# ne yazdıracak?"
   ]
  },
  {
   "cell_type": "code",
   "execution_count": null,
   "metadata": {},
   "outputs": [],
   "source": [
    "# Local Scope'da yazılan kod global değişkenleri kullanabilir.\n",
    "\n",
    "def func():\n",
    "    print(degisken)\n",
    "    \n",
    "degisken = 'Mehmet'\n",
    "func()"
   ]
  },
  {
   "cell_type": "code",
   "execution_count": null,
   "metadata": {},
   "outputs": [],
   "source": [
    "# Bir fonksiyondaki kod başka bir fonksiyonun yerel değişkenini kullanamaz.\n",
    "# Farklı Scope'larda olduğu sürece değişkenlerin isimleri aynı olabilir ve birbirlerini etkilemezler.\n",
    "\n",
    "def a():\n",
    "    x = 10\n",
    "    b()\n",
    "    print(x)\n",
    "    \n",
    "def b():\n",
    "    y = 5\n",
    "    x = 0\n",
    "    print(y)\n",
    "\n",
    "a()\n",
    "\n",
    "# ne yazdıracak?"
   ]
  },
  {
   "cell_type": "markdown",
   "metadata": {},
   "source": [
    "--- \n",
    "## Dersin Sonu\n",
    "\n",
    "Sayı Tahmin Oyunu:\n",
    "- 1 ile 10 arasında rastgele bir sayı belirleyin.\n",
    "- Kullanıcıdan doğru sayıyı alana kadar sürekli tahmin isteyin.\n",
    "- Söylenilen sayının büyük veya küçük olduğunu söyleyin.\n",
    "- Eğer 5 denemede sayıyı bulamazsa oyun kaybedilir.\n",
    "\n",
    "--- \n",
    "Faydalı Bağlantılar: \n",
    " - https://docs.python.org/ Python dili ve Standart Kütüphane ile ilgili her şey. (İngilizce)\n",
    " - https://www.w3schools.com/python/ Python için faydalanılabilecek güzel bir kaynak. Standart Python yanında veritabanı programlama ve veri bilimi ile ilgili bilgiler de içeriyor. (İngilizce)\n",
    " - https://www.codewars.com/ kodlama ile ilgili çeşitli egzersizler yapabileceğiniz bir site. Bir sürü dil için çözebileceğiniz yüzlerce problem mevcut. (İngilizce)\n",
    " - https://www.python.org/dev/peps/pep-0008/ PEP8. Okunabilir Python kodu için belirlenmiş stil standartları. Python yazan herkesin bilmesi gerekir. (İngilizce)\n",
    " \n",
    "---\n",
    "1. Hafta: Sayılar ve Aritmetik Operatörler, Değişkenler ve Diğer Temel Veri Tipleri, Akış Kontrolü, Fonksiyonlar\n",
    "2. Hafta: List, Dictionary, Tuples, Hata Yönetimi, Bazı Veri Yapıları ve String'lere daha genel bir bakış.  \n",
    "3. Hafta: Dosya yönetimi ve Regular Expressions (regex).  \n",
    "4. Hafta: Web Scraping (Web Sayfalarından veri elde etme).  "
   ]
  }
 ],
 "metadata": {
  "kernelspec": {
   "display_name": "Python 3",
   "language": "python",
   "name": "python3"
  },
  "language_info": {
   "codemirror_mode": {
    "name": "ipython",
    "version": 3
   },
   "file_extension": ".py",
   "mimetype": "text/x-python",
   "name": "python",
   "nbconvert_exporter": "python",
   "pygments_lexer": "ipython3",
   "version": "3.9.4"
  }
 },
 "nbformat": 4,
 "nbformat_minor": 4
}
